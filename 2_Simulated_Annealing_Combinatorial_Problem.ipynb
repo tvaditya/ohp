{
 "cells": [
  {
   "cell_type": "code",
   "execution_count": 1,
   "metadata": {},
   "outputs": [],
   "source": [
    "import numpy as np\n",
    "from matplotlib import pyplot as plt\n",
    "import pandas as pd"
   ]
  },
  {
   "cell_type": "code",
   "execution_count": 2,
   "metadata": {},
   "outputs": [],
   "source": [
    "Dist = pd.DataFrame([[0,1,2,3,1,2,3,4],[1,0,1,2,2,1,2,3],[2,1,0,1,3,2,1,2],\n",
    "                      [3,2,1,0,4,3,2,1],[1,2,3,4,0,1,2,3],[2,1,2,3,1,0,1,2],\n",
    "                      [3,2,1,2,2,1,0,1],[4,3,2,1,3,2,1,0]],\n",
    "                    columns=[\"A\",\"B\",\"C\",\"D\",\"E\",\"F\",\"G\",\"H\"],\n",
    "                    index=[\"A\",\"B\",\"C\",\"D\",\"E\",\"F\",\"G\",\"H\"])\n",
    "\n",
    "Flow = pd.DataFrame([[0,5,2,4,1,0,0,6],[5,0,3,0,2,2,2,0],[2,3,0,0,0,0,0,5],\n",
    "                      [4,0,0,0,5,2,2,10],[1,2,0,5,0,10,0,0],[0,2,0,2,10,0,5,1],\n",
    "                      [0,2,0,2,0,5,0,10],[6,0,5,10,0,1,10,0]],\n",
    "                    columns=[\"A\",\"B\",\"C\",\"D\",\"E\",\"F\",\"G\",\"H\"],\n",
    "                    index=[\"A\",\"B\",\"C\",\"D\",\"E\",\"F\",\"G\",\"H\"])"
   ]
  },
  {
   "cell_type": "code",
   "execution_count": 3,
   "metadata": {},
   "outputs": [
    {
     "name": "stdout",
     "output_type": "stream",
     "text": [
      "   A  B  C  D  E  F  G  H\n",
      "A  0  1  2  3  1  2  3  4\n",
      "B  1  0  1  2  2  1  2  3\n",
      "C  2  1  0  1  3  2  1  2\n",
      "D  3  2  1  0  4  3  2  1\n",
      "E  1  2  3  4  0  1  2  3\n",
      "F  2  1  2  3  1  0  1  2\n",
      "G  3  2  1  2  2  1  0  1\n",
      "H  4  3  2  1  3  2  1  0\n"
     ]
    }
   ],
   "source": [
    "print(Dist)"
   ]
  },
  {
   "cell_type": "code",
   "execution_count": 4,
   "metadata": {},
   "outputs": [
    {
     "name": "stdout",
     "output_type": "stream",
     "text": [
      "   A  B  C   D   E   F   G   H\n",
      "A  0  5  2   4   1   0   0   6\n",
      "B  5  0  3   0   2   2   2   0\n",
      "C  2  3  0   0   0   0   0   5\n",
      "D  4  0  0   0   5   2   2  10\n",
      "E  1  2  0   5   0  10   0   0\n",
      "F  0  2  0   2  10   0   5   1\n",
      "G  0  2  0   2   0   5   0  10\n",
      "H  6  0  5  10   0   1  10   0\n"
     ]
    }
   ],
   "source": [
    "print(Flow)"
   ]
  },
  {
   "cell_type": "code",
   "execution_count": 5,
   "metadata": {},
   "outputs": [],
   "source": [
    "T0 = 1500\n",
    "M = 250\n",
    "N = 20\n",
    "alpha = 0.9"
   ]
  },
  {
   "cell_type": "code",
   "execution_count": 6,
   "metadata": {},
   "outputs": [],
   "source": [
    "X0 = [\"B\",\"D\",\"A\",\"E\",\"C\",\"F\",\"G\",\"H\"]"
   ]
  },
  {
   "cell_type": "code",
   "execution_count": 7,
   "metadata": {},
   "outputs": [],
   "source": [
    "# Make a dataframe of the initial solution\n",
    "New_Dist_DF = Dist.reindex(columns=X0, index=X0)\n",
    "New_Dist_Arr = np.array(New_Dist_DF)"
   ]
  },
  {
   "cell_type": "code",
   "execution_count": 8,
   "metadata": {},
   "outputs": [],
   "source": [
    "# Make a dataframe of the cost of the initial solution\n",
    "Objfun1_start = pd.DataFrame(New_Dist_Arr*Flow)\n",
    "Objfun1_start_Arr = np.array(Objfun1_start)"
   ]
  },
  {
   "cell_type": "code",
   "execution_count": 9,
   "metadata": {},
   "outputs": [],
   "source": [
    "sum_start = sum(sum(Objfun1_start_Arr))"
   ]
  },
  {
   "cell_type": "code",
   "execution_count": 10,
   "metadata": {},
   "outputs": [
    {
     "name": "stdout",
     "output_type": "stream",
     "text": [
      "336\n"
     ]
    }
   ],
   "source": [
    "print(sum_start)"
   ]
  },
  {
   "cell_type": "code",
   "execution_count": 11,
   "metadata": {},
   "outputs": [],
   "source": [
    "Temp = []\n",
    "Min_Cost = []\n",
    "\n",
    "for i in range(M):\n",
    "    for j in range(N):\n",
    "        ran_1 = np.random.randint(0,len(X0))\n",
    "        ran_2 = np.random.randint(0,len(X0))\n",
    "        \n",
    "        while ran_1==ran_2:\n",
    "            ran_2 = np.random.randint(0,len(X0))\n",
    "        \n",
    "        xt = []\n",
    "        xf = []\n",
    "        \n",
    "        # [\"B\",\"D\",\"A\",\"E\",\"C\",\"F\",\"G\",\"H\"]\n",
    "        \n",
    "        \n",
    "        A1 = X0[ran_1]\n",
    "        A2 = X0[ran_2]\n",
    "\n",
    "        # Make a new list of the new set of departments\n",
    "        \n",
    "        w = 0\n",
    "        for i in X0:\n",
    "            if X0[w]==A1:\n",
    "                xt = np.append(xt,A2)\n",
    "            elif X0[w]==A2:\n",
    "                xt = np.append(xt,A1)\n",
    "            else:\n",
    "                xt=np.append(xt,X0[w])\n",
    "            w = w+1\n",
    "        \n",
    "\n",
    "\n",
    "        new_dis_df_init = Dist.reindex(columns=X0, index=X0)\n",
    "        new_dis_init_arr = np.array(new_dis_df_init)\n",
    "        \n",
    "        \n",
    "        new_dis_df_new = Dist.reindex(columns=xt, index=xt)\n",
    "        new_dis_new_arr = np.array(new_dis_df_new)\n",
    "        \n",
    "        \n",
    "        # Make a adatframe of the current solution\n",
    "        objfun_init = pd.DataFrame(new_dis_init_arr*Flow)\n",
    "        objfun_init_arr = np.array(objfun_init)\n",
    "        \n",
    "        # Make a adatframe of the new solution\n",
    "        objfun_new = pd.DataFrame(new_dis_new_arr*Flow)\n",
    "        objfun_new_arr = np.array(objfun_new)\n",
    "        \n",
    "        sum_init = sum(sum(objfun_init_arr))\n",
    "        sum_new = sum(sum(objfun_new_arr))\n",
    "        \n",
    "        rand1 = np.random.rand()\n",
    "        form = 1/(np.exp(sum_new-sum_init)/T0)\n",
    "        \n",
    "        if sum_new<=sum_init:\n",
    "            X0=xt\n",
    "        elif rand1<=form:\n",
    "            X0=xt\n",
    "        else:\n",
    "            X0=X0\n",
    "        \n",
    "    Temp.append(T0)\n",
    "    Min_Cost.append(sum_init)\n",
    "    \n",
    "    T0 = alpha*T0"
   ]
  },
  {
   "cell_type": "code",
   "execution_count": 12,
   "metadata": {},
   "outputs": [
    {
     "name": "stdout",
     "output_type": "stream",
     "text": [
      "\n",
      "Final Solution: ['C' 'D' 'H' 'B' 'A' 'E' 'F' 'G']\n",
      "Minimized Cost: 214\n"
     ]
    }
   ],
   "source": [
    "print()\n",
    "print(\"Final Solution:\",X0)\n",
    "print(\"Minimized Cost:\",sum_init)"
   ]
  },
  {
   "cell_type": "code",
   "execution_count": 13,
   "metadata": {},
   "outputs": [
    {
     "data": {
      "image/png": "[encoded data removed]",
      "text/plain": [
       "<Figure size 1008x432 with 1 Axes>"
      ]
     },
     "metadata": {
      "needs_background": "light"
     },
     "output_type": "display_data"
    }
   ],
   "source": [
    "plt.figure(figsize=(14,6))\n",
    "plt.plot(Temp,Min_Cost, color = 'g')\n",
    "plt.title(\"Cost vs. Temp.\", fontsize=20,fontweight='bold', color ='b')\n",
    "plt.xlabel(\"Temp.\", fontsize=15,fontweight='bold', color = 'b')\n",
    "plt.ylabel(\"Cost\", fontsize=15,fontweight='bold', color= 'b')\n",
    "plt.xlim(1500,0)\n",
    "plt.xticks(np.arange(min(Temp),max(Temp),100),fontweight='bold')\n",
    "plt.yticks(fontweight='bold')\n",
    "plt.show()\n"
   ]
  },
  {
   "cell_type": "code",
   "execution_count": null,
   "metadata": {},
   "outputs": [],
   "source": []
  }
 ],
 "metadata": {
  "kernelspec": {
   "display_name": "Python 3",
   "language": "python",
   "name": "python3"
  },
  "language_info": {
   "codemirror_mode": {
    "name": "ipython",
    "version": 3
   },
   "file_extension": ".py",
   "mimetype": "text/x-python",
   "name": "python",
   "nbconvert_exporter": "python",
   "pygments_lexer": "ipython3",
   "version": "3.7.3"
  }
 },
 "nbformat": 4,
 "nbformat_minor": 2
}
