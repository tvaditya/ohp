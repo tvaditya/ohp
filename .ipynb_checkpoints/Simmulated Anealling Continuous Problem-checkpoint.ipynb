{
 "cells": [
  {
   "cell_type": "code",
   "execution_count": 1,
   "metadata": {},
   "outputs": [],
   "source": [
    "import numpy as np\n",
    "import matplotlib.pyplot as plt"
   ]
  },
  {
   "cell_type": "code",
   "execution_count": 3,
   "metadata": {},
   "outputs": [
    {
     "data": {
      "text/plain": [
       "{'divide': 'warn', 'over': 'warn', 'under': 'ignore', 'invalid': 'warn'}"
      ]
     },
     "execution_count": 3,
     "metadata": {},
     "output_type": "execute_result"
    }
   ],
   "source": [
    "np.seterr(divide=\"ignore\")"
   ]
  },
  {
   "cell_type": "code",
   "execution_count": 5,
   "metadata": {},
   "outputs": [],
   "source": [
    "#Himmelblau FUnction\n",
    "x=2\n",
    "y=1\n",
    "z=((x**2)+y-11)**2+(x+(y**2)-7)**2"
   ]
  },
  {
   "cell_type": "code",
   "execution_count": 15,
   "metadata": {},
   "outputs": [
    {
     "name": "stdout",
     "output_type": "stream",
     "text": [
      "Initial x: 2.000\n",
      "Initial y: 1.000\n",
      "Initial z: 52.000\n"
     ]
    }
   ],
   "source": [
    "print(\"Initial x: {:0.3f}\".format(x))\n",
    "print(\"Initial y: {:0.3f}\".format(y))\n",
    "print(\"Initial z: {:0.3f}\".format(z))"
   ]
  },
  {
   "cell_type": "code",
   "execution_count": 16,
   "metadata": {},
   "outputs": [],
   "source": [
    "T0 = 1000 # Initial temp\n",
    "temp_for_plot = T0 # plotting purposes\n",
    "M = 300 # How many times you will decrease the temperature\n",
    "N = 15 # How many times you want to search ou neighbourhood\n",
    "k = 0.1 # Helps reduce the step-size"
   ]
  },
  {
   "cell_type": "code",
   "execution_count": 18,
   "metadata": {},
   "outputs": [],
   "source": [
    "temp = [] # Plot temp\n",
    "obj_val = [] # plot the obj value reached at the end of each m "
   ]
  },
  {
   "cell_type": "code",
   "execution_count": null,
   "metadata": {},
   "outputs": [],
   "source": [
    "# neighbourhood search\n",
    "for i in range(M):\n",
    "    for j in range(N):\n",
    "        # For decision varibale x\n",
    "        rand_num_x_1 = np.random.rand() # Increase or descreas x?\n",
    "        rand_num_x_2 = np.random.rand() # by how much?\n",
    "        \n",
    "        if rand_num_x_1 >= 0.5: # if greater than 0.5 , we increase\n",
    "            step_size_x = k * rand_num_x_2 # make sure to make a smaller step size\n",
    "        else:\n",
    "            step_size_x = -k * rand_num_x_2 # less than 0.5, we decrease\n",
    "            \n",
    "        # For decision varibale y\n",
    "        rand_num_y_1 = np.random.rand()\n",
    "        rand_num_y_2 = np.random.rand()\n",
    "        \n",
    "        if rand_num_y_1 >= 0.5:\n",
    "            step_size_y = k * rand_num_y_2\n",
    "        else:\n",
    "            step_size_y = -k * rand_num_y_2\n",
    "        # still temporary we do not know if we take it    \n",
    "        x_temporary = x + step_size_x\n",
    "        y_temporary = y + step_size_y\n",
    "        \n",
    "        # A possible solution\n",
    "        obj_val_possible=((x_temporary**2)+y_temporary-11)**2+(x_temporary+(y_temporary**2)-7)**2\n",
    "        # According to the formula in the theory discuss if we take it or not eventhoug ti is worse\n",
    "        # The actual solution\n",
    "        obj_val_current=((x**2)+y-11)**2+(x+(y**2)-7)**2\n",
    "        \n",
    "        # Should we accept worse moves?\n",
    "        # take solution or not\n",
    "        rand_num = np.random.rand()\n",
    "        \n",
    "            \n",
    "        \n",
    "            \n",
    "            "
   ]
  }
 ],
 "metadata": {
  "kernelspec": {
   "display_name": "Python 3",
   "language": "python",
   "name": "python3"
  },
  "language_info": {
   "codemirror_mode": {
    "name": "ipython",
    "version": 3
   },
   "file_extension": ".py",
   "mimetype": "text/x-python",
   "name": "python",
   "nbconvert_exporter": "python",
   "pygments_lexer": "ipython3",
   "version": "3.7.3"
  }
 },
 "nbformat": 4,
 "nbformat_minor": 2
}
