{
 "cells": [
  {
   "cell_type": "code",
   "execution_count": 1,
   "metadata": {},
   "outputs": [],
   "source": [
    "import numpy as np\n",
    "import matplotlib.pyplot as plt"
   ]
  },
  {
   "cell_type": "code",
   "execution_count": 2,
   "metadata": {},
   "outputs": [
    {
     "data": {
      "text/plain": [
       "{'divide': 'warn', 'over': 'warn', 'under': 'ignore', 'invalid': 'warn'}"
      ]
     },
     "execution_count": 2,
     "metadata": {},
     "output_type": "execute_result"
    }
   ],
   "source": [
    "np.seterr(divide=\"ignore\")"
   ]
  },
  {
   "cell_type": "code",
   "execution_count": 3,
   "metadata": {},
   "outputs": [],
   "source": [
    "#Himmelblau FUnction\n",
    "x=2\n",
    "y=1\n",
    "z=((x**2)+y-11)**2+(x+(y**2)-7)**2"
   ]
  },
  {
   "cell_type": "code",
   "execution_count": 4,
   "metadata": {},
   "outputs": [
    {
     "name": "stdout",
     "output_type": "stream",
     "text": [
      "Initial x: 2.000\n",
      "Initial y: 1.000\n",
      "Initial z: 52.000\n"
     ]
    }
   ],
   "source": [
    "print(\"Initial x: {:0.3f}\".format(x))\n",
    "print(\"Initial y: {:0.3f}\".format(y))\n",
    "print(\"Initial z: {:0.3f}\".format(z))"
   ]
  },
  {
   "cell_type": "code",
   "execution_count": 5,
   "metadata": {},
   "outputs": [],
   "source": [
    "T0 = 1000 # Initial temp\n",
    "temp_for_plot = T0 # plotting purposes\n",
    "M = 300 # How many times you will decrease the temperature\n",
    "N = 15 # How many times you want to search ou neighbourhood\n",
    "alpha = 0.85 # at what rate do you want to decrease your temperature\n",
    "k = 0.1 # Helps reduce the step-size"
   ]
  },
  {
   "cell_type": "code",
   "execution_count": 6,
   "metadata": {},
   "outputs": [],
   "source": [
    "temp = [] # Plot temp\n",
    "obj_val = [] # plot the obj value reached at the end of each m "
   ]
  },
  {
   "cell_type": "code",
   "execution_count": 7,
   "metadata": {},
   "outputs": [],
   "source": [
    "# neighbourhood search\n",
    "for i in range(M):\n",
    "    for j in range(N):\n",
    "        # For decision varibale x\n",
    "        rand_num_x_1 = np.random.rand() # Increase or descreas x?\n",
    "        rand_num_x_2 = np.random.rand() # by how much?\n",
    "        \n",
    "        if rand_num_x_1 >= 0.5: # if greater than 0.5 , we increase\n",
    "            step_size_x = k * rand_num_x_2 # make sure to make a smaller step size\n",
    "        else:\n",
    "            step_size_x = -k * rand_num_x_2 # less than 0.5, we decrease\n",
    "            \n",
    "        # For decision varibale y\n",
    "        rand_num_y_1 = np.random.rand()\n",
    "        rand_num_y_2 = np.random.rand()\n",
    "        \n",
    "        if rand_num_y_1 >= 0.5:\n",
    "            step_size_y = k * rand_num_y_2\n",
    "        else:\n",
    "            step_size_y = -k * rand_num_y_2\n",
    "        # still temporary we do not know if we take it    \n",
    "        x_temporary = x + step_size_x\n",
    "        y_temporary = y + step_size_y\n",
    "        \n",
    "        # A possible solution\n",
    "        obj_val_possible=((x_temporary**2)+y_temporary-11)**2+(x_temporary+(y_temporary**2)-7)**2\n",
    "        # According to the formula in the theory discuss if we take it or not eventhoug ti is worse\n",
    "        # The actual solution\n",
    "        obj_val_current=((x**2)+y-11)**2+(x+(y**2)-7)**2\n",
    "        \n",
    "        # Should we accept worse moves?\n",
    "        # take solution or not\n",
    "        rand_num = np.random.rand()\n",
    "        \n",
    "        # If the possibe solution is better than go ahead.. if it is worse\n",
    "        # Use the formula below\n",
    "        \n",
    "        formula = 1/(np.exp((obj_val_possible - obj_val_current)/T0))\n",
    "        \n",
    "        # do we change our current solution?\n",
    "        \n",
    "        if obj_val_possible <= obj_val_current:\n",
    "            #if possible solution is better than we take it\n",
    "            x = x_temporary\n",
    "            y = y_temporary\n",
    "            \n",
    "        elif rand_num <= formula:\n",
    "            # if the random number is less than output of formula we take it\n",
    "            # remember that the lower the output is lesser the chance of the random number beating it\n",
    "            x = x_temporary\n",
    "            y = y_temporary\n",
    "            \n",
    "        else:\n",
    "            # if random number was greater , we continue with the best solution\n",
    "            x = x\n",
    "            y = y\n",
    "            \n",
    "    temp.append(T0)\n",
    "    obj_val.append(obj_val_current)\n",
    "    \n",
    "    T0 = alpha*T0\n",
    "           "
   ]
  },
  {
   "cell_type": "code",
   "execution_count": 8,
   "metadata": {},
   "outputs": [
    {
     "name": "stdout",
     "output_type": "stream",
     "text": [
      "New x: 3.001\n",
      "New y: 2.001\n",
      "Obj val: 0.000\n"
     ]
    }
   ],
   "source": [
    "print(\"New x: {:0.3f}\".format(x))\n",
    "print(\"New y: {:0.3f}\".format(y))\n",
    "print(\"Obj val: {:0.3f}\".format(obj_val_current))"
   ]
  },
  {
   "cell_type": "code",
   "execution_count": 9,
   "metadata": {},
   "outputs": [
    {
     "data": {
      "image/png": "[encoded data removed]",
      "text/plain": [
       "<Figure size 1008x432 with 1 Axes>"
      ]
     },
     "metadata": {
      "needs_background": "light"
     },
     "output_type": "display_data"
    }
   ],
   "source": [
    "plt.figure(figsize=(14,6))\n",
    "plt.plot(temp, obj_val, color ='g')\n",
    "plt.title(\"Z at Temperature Values\", fontsize=20, fontweight='bold', color = 'b')\n",
    "plt.xlabel(\"Temperature\", fontsize=15, fontweight='bold', color = 'b')\n",
    "plt.ylabel(\"Z\", fontsize=15, fontweight='bold', color='b')\n",
    "plt.xlim(temp_for_plot,0)\n",
    "plt.xticks(np.arange(min(temp), max(temp),100), fontweight='bold')\n",
    "plt.yticks(fontweight='bold')\n",
    "plt.show()"
   ]
  },
  {
   "cell_type": "code",
   "execution_count": null,
   "metadata": {},
   "outputs": [],
   "source": []
  }
 ],
 "metadata": {
  "kernelspec": {
   "display_name": "Python 3",
   "language": "python",
   "name": "python3"
  },
  "language_info": {
   "codemirror_mode": {
    "name": "ipython",
    "version": 3
   },
   "file_extension": ".py",
   "mimetype": "text/x-python",
   "name": "python",
   "nbconvert_exporter": "python",
   "pygments_lexer": "ipython3",
   "version": "3.7.3"
  }
 },
 "nbformat": 4,
 "nbformat_minor": 2
}
